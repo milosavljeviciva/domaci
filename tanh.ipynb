{
  "nbformat": 4,
  "nbformat_minor": 0,
  "metadata": {
    "colab": {
      "provenance": [],
      "authorship_tag": "ABX9TyOASTHdjsbnqabzeGZXDzOa",
      "include_colab_link": true
    },
    "kernelspec": {
      "name": "python3",
      "display_name": "Python 3"
    },
    "language_info": {
      "name": "python"
    }
  },
  "cells": [
    {
      "cell_type": "markdown",
      "metadata": {
        "id": "view-in-github",
        "colab_type": "text"
      },
      "source": [
        "<a href=\"https://colab.research.google.com/github/milosavljeviciva/domaci/blob/main/tanh.ipynb\" target=\"_parent\"><img src=\"https://colab.research.google.com/assets/colab-badge.svg\" alt=\"Open In Colab\"/></a>"
      ]
    },
    {
      "cell_type": "code",
      "execution_count": 1,
      "metadata": {
        "colab": {
          "base_uri": "https://localhost:8080/"
        },
        "id": "lNs8nDwKsfGd",
        "outputId": "bb3fabc3-8376-4c3c-ba20-edcf627470fc"
      },
      "outputs": [
        {
          "output_type": "stream",
          "name": "stdout",
          "text": [
            "tanh output: [ 0.09966799  0.46211716 -0.29131261]\n"
          ]
        }
      ],
      "source": [
        "#Implementacija tanh funkcije u NumPy:\n",
        "import numpy as np\n",
        "\n",
        "def tanh(x):\n",
        "    return np.tanh(x)\n",
        "\n",
        "# Primer upotrebe\n",
        "x = np.array([0.1, 0.5, -0.3])\n",
        "result = tanh(x)\n",
        "print(f\"tanh output: {result}\")\n"
      ]
    },
    {
      "cell_type": "code",
      "source": [
        "#Sada ćemo kreirati neuronsku mrežu koristeći PyTorch. Pretpostavićemo da imamo jedan skriveni sloj sa 10 neurona:\n",
        "import torch\n",
        "import torch.nn as nn\n",
        "import torch.optim as optim\n",
        "\n",
        "# Kreiranje modela\n",
        "class NeuralNetwork(nn.Module):\n",
        "    def __init__(self):\n",
        "        super(NeuralNetwork, self).__init__()\n",
        "        self.fc1 = nn.Linear(in_features=1, out_features=10)  # Ulazni sloj -> Skriveni sloj\n",
        "        self.fc2 = nn.Linear(in_features=10, out_features=1)  # Skriveni sloj -> Izlazni sloj\n",
        "        self.tanh = nn.Tanh()\n",
        "\n",
        "    def forward(self, x):\n",
        "        x = self.tanh(self.fc1(x))\n",
        "        x = self.fc2(x)\n",
        "        return x\n",
        "\n",
        "# Inicijalizacija modela\n",
        "model = NeuralNetwork()\n",
        "\n",
        "# Definisanje gubitka i optimizatora\n",
        "criterion = nn.MSELoss()\n",
        "optimizer = optim.SGD(model.parameters(), lr=0.01)\n",
        "\n",
        "# Treniranje modela (primer)\n",
        "x_train = torch.tensor([[1.0], [2.0], [3.0], [4.0]])\n",
        "y_train = torch.tensor([[0.0], [0.1], [0.2], [0.3]])\n",
        "\n",
        "for epoch in range(1000):\n",
        "    optimizer.zero_grad()\n",
        "    outputs = model(x_train)\n",
        "    loss = criterion(outputs, y_train)\n",
        "    loss.backward()\n",
        "    optimizer.step()\n",
        "\n",
        "# Testiranje modela\n",
        "x_test = torch.tensor([[5.0]])\n",
        "predicted_output = model(x_test)\n",
        "print(f\"Predicted output for x=5: {predicted_output.item()}\")\n"
      ],
      "metadata": {
        "colab": {
          "base_uri": "https://localhost:8080/"
        },
        "id": "SBOxOnTxswXR",
        "outputId": "d9609774-c278-405b-be78-41f6847efe28"
      },
      "execution_count": 2,
      "outputs": [
        {
          "output_type": "stream",
          "name": "stdout",
          "text": [
            "Predicted output for x=5: 0.31727075576782227\n"
          ]
        }
      ]
    }
  ]
}