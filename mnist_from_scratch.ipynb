{
  "nbformat": 4,
  "nbformat_minor": 0,
  "metadata": {
    "colab": {
      "provenance": [],
      "authorship_tag": "ABX9TyP0TfDR2lcNbH8SGTSgPh8r",
      "include_colab_link": true
    },
    "kernelspec": {
      "name": "python3",
      "display_name": "Python 3"
    },
    "language_info": {
      "name": "python"
    }
  },
  "cells": [
    {
      "cell_type": "markdown",
      "metadata": {
        "id": "view-in-github",
        "colab_type": "text"
      },
      "source": [
        "<a href=\"https://colab.research.google.com/github/milosavljeviciva/domaci/blob/main/mnist_from_scratch.ipynb\" target=\"_parent\"><img src=\"https://colab.research.google.com/assets/colab-badge.svg\" alt=\"Open In Colab\"/></a>"
      ]
    },
    {
      "cell_type": "code",
      "execution_count": 1,
      "metadata": {
        "id": "Hz0O2pT_p8qa"
      },
      "outputs": [],
      "source": [
        "import numpy as np\n",
        "import pandas as pd\n",
        "from matplotlib import pyplot as plt"
      ]
    },
    {
      "cell_type": "code",
      "source": [
        "data = pd.read_csv(\"./sample_data/mnist_train_small.csv\")"
      ],
      "metadata": {
        "id": "49r73fCCrHp5"
      },
      "execution_count": 2,
      "outputs": []
    },
    {
      "cell_type": "code",
      "source": [
        "from sklearn.model_selection import train_test_split\n",
        "data = data.rename(columns = {\"6\": \"label\"})\n",
        "data.head()\n",
        "print(data.shape)\n",
        "\n",
        "train, test = train_test_split(data, test_size = 0.2)\n"
      ],
      "metadata": {
        "colab": {
          "base_uri": "https://localhost:8080/"
        },
        "id": "vyyWSoyGr770",
        "outputId": "666778d3-bc08-41c7-9098-1fa270afd7c1"
      },
      "execution_count": 18,
      "outputs": [
        {
          "output_type": "stream",
          "name": "stdout",
          "text": [
            "(19999, 785)\n"
          ]
        }
      ]
    },
    {
      "cell_type": "code",
      "source": [
        "train.hist(columns)\n",
        "test.hist(columns)"
      ],
      "metadata": {
        "colab": {
          "base_uri": "https://localhost:8080/",
          "height": 159
        },
        "id": "6QT2h97t3ptw",
        "outputId": "2e380347-4867-42c5-bb82-56821ff2ad42"
      },
      "execution_count": 21,
      "outputs": [
        {
          "output_type": "error",
          "ename": "AttributeError",
          "evalue": "'numpy.ndarray' object has no attribute 'hist'",
          "traceback": [
            "\u001b[0;31m---------------------------------------------------------------------------\u001b[0m",
            "\u001b[0;31mAttributeError\u001b[0m                            Traceback (most recent call last)",
            "\u001b[0;32m<ipython-input-21-33eea57ce6eb>\u001b[0m in \u001b[0;36m<cell line: 1>\u001b[0;34m()\u001b[0m\n\u001b[0;32m----> 1\u001b[0;31m \u001b[0mtrain\u001b[0m\u001b[0;34m.\u001b[0m\u001b[0mhist\u001b[0m\u001b[0;34m(\u001b[0m\u001b[0mcolumns\u001b[0m\u001b[0;34m)\u001b[0m\u001b[0;34m\u001b[0m\u001b[0;34m\u001b[0m\u001b[0m\n\u001b[0m\u001b[1;32m      2\u001b[0m \u001b[0mtest\u001b[0m\u001b[0;34m.\u001b[0m\u001b[0mhist\u001b[0m\u001b[0;34m(\u001b[0m\u001b[0mcolumns\u001b[0m\u001b[0;34m)\u001b[0m\u001b[0;34m\u001b[0m\u001b[0;34m\u001b[0m\u001b[0m\n",
            "\u001b[0;31mAttributeError\u001b[0m: 'numpy.ndarray' object has no attribute 'hist'"
          ]
        }
      ]
    },
    {
      "cell_type": "code",
      "source": [
        "train = np.array(train)\n",
        "test = np.array(test)\n",
        "train_X = train[:, 1:].T\n",
        "train_y = train[:,0]\n",
        "print(train_X)\n",
        "print(train_y)"
      ],
      "metadata": {
        "colab": {
          "base_uri": "https://localhost:8080/"
        },
        "id": "OqzWHDePtZ6c",
        "outputId": "1be91e2f-8dde-4468-a862-ffb3745e8e43"
      },
      "execution_count": 19,
      "outputs": [
        {
          "output_type": "stream",
          "name": "stdout",
          "text": [
            "[[0 0 0 ... 0 0 0]\n",
            " [0 0 0 ... 0 0 0]\n",
            " [0 0 0 ... 0 0 0]\n",
            " ...\n",
            " [0 0 0 ... 0 0 0]\n",
            " [0 0 0 ... 0 0 0]\n",
            " [0 0 0 ... 0 0 0]]\n",
            "[0 9 1 ... 0 9 1]\n"
          ]
        }
      ]
    },
    {
      "cell_type": "code",
      "source": [
        "def ReLu(x):\n",
        "  return max(0, x)\n",
        "\n",
        "def deriv_ReLu(X):\n",
        "  return X > 0\n",
        "\n",
        "def softmax(X):\n",
        "  return np.exp(X) / np.sum(exp(X))\n",
        "\n",
        "def init_params():\n",
        "  W1 = np.random.randn(10, 784)\n",
        "  b1 = np.random.randn(10, 1)\n",
        "  W2 = np.random.randn(20, 20)\n",
        "  b2 = np.random.randn(20, 1)\n",
        "  return W1, b1, W2, b2\n",
        "\n",
        "def one_hot(X):\n",
        "  r = np.zeros(10)\n",
        "  r[X] = 1\n",
        "  return r\n",
        "\n",
        "def forward(W1, b1, W2, b2, X):\n",
        "  z1 = W1.dot(X) + b1\n",
        "  a1 = ReLu(z1)\n",
        "  z2 = W2.dot(a1) + b2\n",
        "  a2 = softmax(z2)\n",
        "  return z1, a1, z2, a2\n",
        "\n",
        "def backward(z1, a1, z2, a2, W2, X, y):\n",
        "  m = y.size\n",
        "  oh_y = one_hot(y)\n",
        "  dz2 = a2 - oh_y\n",
        "  dw2 = 1 / m * dz2.dot(a1.T)\n",
        "  db2 = 1 / m * np.sum(dz2, 2)\n",
        "  dz1 = W2.T.dot(dz2) * deriv_ReLu(z1)\n",
        "  dw1 = 1 / m * dz1.dot(X.T)\n",
        "  db1 = 1 / m * np.sum(dz1, 2)\n",
        "  return dw1, db1, dw2, db2\n",
        "\n",
        "def update_params(W1, b1, W2, b2, dw1, db1, dw2, db2, lr):\n",
        "  W1 -= lr * dw1\n",
        "  W2 -= lr * dw2\n",
        "  b1 -= lr * db1\n",
        "  b2 -= lr * db2\n",
        "  return W1, b1, W2, b2\n",
        "\n",
        "def gradiend_descent(X, Y, iterations, lr):\n",
        "  W1, b1, W2, b2 = init_params()\n",
        "  for i in range(iterations):\n",
        "    Z1, A1, Z2, A2 = forward(W1, b1, W2, b2, X)\n",
        "    dW1, db1, dW2, db2 = backward(Z1, A1, Z2, A2, W2, X, Y)\n",
        "    W1, b1, W2, b2 = update_params(W1, b1, W2, b2, dW1, db1, dW2, db2, lr)\n",
        "    if i % 50 == 0:\n",
        "      print(\"Iterations: \", i)\n",
        "      print(\"Accuracy: \", get_accuracy(get_prediction(A2), Y))"
      ],
      "metadata": {
        "id": "xBNDdUJotxUz"
      },
      "execution_count": 20,
      "outputs": []
    },
    {
      "cell_type": "code",
      "source": [
        "W1, b1, W2, b2 = gradient_descent(train_X, train_y, 100, 0)"
      ],
      "metadata": {
        "id": "kl_jtVpu18XO"
      },
      "execution_count": null,
      "outputs": []
    }
  ]
}